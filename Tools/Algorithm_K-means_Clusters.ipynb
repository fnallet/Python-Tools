{
 "cells": [
  {
   "cell_type": "code",
   "execution_count": null,
   "id": "b4efa668",
   "metadata": {},
   "outputs": [],
   "source": [
    "#Loop to find the best number of clusters and ratio: n_init and silhouette score\n",
    "\n",
    "#Importing the KMeans class from the sklearn.cluster module\n",
    "from sklearn.cluster import KMeans\n",
    "from sklearn.metrics import silhouette_score\n",
    "\n",
    "#Import pandas library for data manipulation\n",
    "import pandas as pd\n",
    "\n",
    "#Table to store results\n",
    "results = []\n",
    "\n",
    "#Conversion of DataFrame to NumPy array\n",
    "df = df.to_numpy()\n",
    "\n",
    "#Loop over different values of n_init\n",
    "for n_init in range(1, 100):\n",
    "    #Creating a KMeans model with n_init clusters\n",
    "    k_means = KMeans(n_clusters=2, n_init=n_init)\n",
    "\n",
    "    #Training the KMeans model on the data\n",
    "    k_means.fit(df)\n",
    "\n",
    "    #Prediction of cluster labels for data\n",
    "    k_means_labels = k_means.predict(df)\n",
    "\n",
    "    #Silhouette score calculation\n",
    "    silhouette_score1 = silhouette_score(df, k_means_labels)\n",
    "\n",
    "    #Adding results to the results list\n",
    "    results.append({'n_init': n_init, 'silhouette_score': silhouette_score1})\n",
    "\n",
    "#Creating a DataFrame from the results list\n",
    "results_df = pd.DataFrame(results)\n",
    "\n",
    "#Saving results in an Excel file\n",
    "if not results_df.empty:\n",
    "    results_df.to_excel(Chemin + 'results.xlsx', index=False)"
   ]
  }
 ],
 "metadata": {
  "kernelspec": {
   "display_name": "Python 3 (ipykernel)",
   "language": "python",
   "name": "python3"
  },
  "language_info": {
   "codemirror_mode": {
    "name": "ipython",
    "version": 3
   },
   "file_extension": ".py",
   "mimetype": "text/x-python",
   "name": "python",
   "nbconvert_exporter": "python",
   "pygments_lexer": "ipython3",
   "version": "3.11.5"
  }
 },
 "nbformat": 4,
 "nbformat_minor": 5
}
