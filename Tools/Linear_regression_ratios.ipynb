{
 "cells": [
  {
   "cell_type": "code",
   "execution_count": null,
   "id": "bc12d6ab",
   "metadata": {},
   "outputs": [],
   "source": [
    "#Loop to find the best randomstate based on the following ratios: RMSE, MAPE and R-squared\n",
    "\n",
    "from sklearn.model_selection import train_test_split\n",
    "from sklearn.linear_model import LinearRegression\n",
    "from sklearn.metrics import mean_squared_error, mean_absolute_percentage_error, r2_score\n",
    "import numpy as np\n",
    "\n",
    "\n",
    "#predictor variable matrix\n",
    "X = df(['attribut_1', 'attribut_2'], axis=1)  #Select useful dimensions\n",
    "#the vector (array)\n",
    "y = df['attribut_3']  #Select the column to predict\n",
    "\n",
    "#Table to store results\n",
    "results = []\n",
    "\n",
    "#We train the algorithm below and make the prediction\n",
    "#We choose a linear regression model\n",
    "reg = LinearRegression()\n",
    "\n",
    "#Loop on the different random_states\n",
    "for randomstate in range(1, 100):\n",
    "\n",
    "    #Separation of data in train and test\n",
    "    X_train, X_test, y_train, y_test = train_test_split(X, y, test_size=0.33, random_state=randomstate)\n",
    "    \n",
    "    X_train.columns = X_train.columns.astype(str)\n",
    "    X_test.columns = X_test.columns.astype(str)   \n",
    "\n",
    "    #We train this model on the data with the fit method\n",
    "    reg.fit(X_train, y_train)\n",
    "\n",
    "    y_pred_test = reg.predict(X_test)\n",
    "  \n",
    "    #Root Mean Square Error (measure of the accuracy of a predictive model)\n",
    "     #Sensitive to outliers\n",
    "    rmse = np.sqrt(mean_squared_error(y_test, y_pred_test))\n",
    "\n",
    "    #Mean Absolute Percentage Error\n",
    "    #Less sensitive to outliers\n",
    "    mape = mean_absolute_percentage_error(y_test, y_pred_test)*100\n",
    "    \n",
    "    #Calculation of the coefficient of determination\n",
    "    r2 = r2_score(y_test, y_pred_test)\n",
    "    \n",
    "    #Saving results in table\n",
    "    results.append([randomstate, rmse, mape, r2])\n",
    "\n",
    "\n",
    "#Convert the results list to a DataFrame\n",
    "results_df = pd.DataFrame(results, columns=['RandomState', 'RMSE', 'MAPE', 'r2'])\n",
    "\n",
    "#Save the DataFrame to an Excel file\n",
    "results_df.to_excel(Chemin + 'results.xlsx', index=False)"
   ]
  }
 ],
 "metadata": {
  "kernelspec": {
   "display_name": "Python 3 (ipykernel)",
   "language": "python",
   "name": "python3"
  },
  "language_info": {
   "codemirror_mode": {
    "name": "ipython",
    "version": 3
   },
   "file_extension": ".py",
   "mimetype": "text/x-python",
   "name": "python",
   "nbconvert_exporter": "python",
   "pygments_lexer": "ipython3",
   "version": "3.11.5"
  }
 },
 "nbformat": 4,
 "nbformat_minor": 5
}
